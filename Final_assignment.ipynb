{
 "cells": [
  {
   "cell_type": "markdown",
   "metadata": {},
   "source": [
    "## Cultural Scene Comparison"
   ]
  },
  {
   "cell_type": "markdown",
   "metadata": {},
   "source": [
    "From a short list of preferred locations, in which city should a small tour-guide company that focuses on museums and cultural arts centers open a new office?"
   ]
  },
  {
   "cell_type": "markdown",
   "metadata": {},
   "source": [
    "### Table of Contents\n",
    "\n",
    "1. Get neighborhoods for selected cities and format\n",
    "1.  "
   ]
  },
  {
   "cell_type": "markdown",
   "metadata": {},
   "source": [
    "---"
   ]
  },
  {
   "cell_type": "markdown",
   "metadata": {},
   "source": [
    "- Import libraries"
   ]
  },
  {
   "cell_type": "code",
   "execution_count": 282,
   "metadata": {},
   "outputs": [],
   "source": [
    "import pandas as pd\n",
    "import numpy as np\n",
    "\n",
    "import requests\n",
    "import api_keys\n",
    "\n",
    "import json\n",
    "import re\n",
    "\n",
    "from geopy.geocoders import Nominatim\n"
   ]
  },
  {
   "cell_type": "markdown",
   "metadata": {},
   "source": [
    "---"
   ]
  },
  {
   "cell_type": "markdown",
   "metadata": {},
   "source": [
    "## (1) Get neighborhoods for selected cities and format"
   ]
  },
  {
   "cell_type": "markdown",
   "metadata": {},
   "source": [
    "---"
   ]
  },
  {
   "cell_type": "markdown",
   "metadata": {},
   "source": [
    "[A] Preferred cities"
   ]
  },
  {
   "cell_type": "code",
   "execution_count": 166,
   "metadata": {},
   "outputs": [],
   "source": [
    "preferred_cities = [\n",
    "    'New York, NY',\n",
    "    'Toronto, Canada',\n",
    "    'Paris, France',\n",
    "    'London, UK'\n",
    "]"
   ]
  },
  {
   "cell_type": "markdown",
   "metadata": {},
   "source": [
    "---"
   ]
  },
  {
   "cell_type": "markdown",
   "metadata": {},
   "source": [
    "[B] Function to retrieve coordinates from given address"
   ]
  },
  {
   "cell_type": "code",
   "execution_count": 167,
   "metadata": {},
   "outputs": [],
   "source": [
    "def get_coordinates_to_df(lookup_series, city):\n",
    "    lat_list = []\n",
    "    lon_list = []\n",
    "    \n",
    "    for lookup in lookup_series:\n",
    "        \n",
    "        rough_address = city+' '+lookup\n",
    "        \n",
    "        geolocator = Nominatim(user_agent=\"mapper\")\n",
    "        location = geolocator.geocode(rough_address)\n",
    "        \n",
    "        try:\n",
    "            lat_list.append(location.latitude)\n",
    "            lon_list.append(location.longitude)  \n",
    "        except:\n",
    "            print('NO ADDRESS RETURNED:', rough_address)\n",
    "            lat_list.append(np.nan)\n",
    "            lon_list.append(np.nan)\n",
    "    \n",
    "    print('Returned tuple of latitude and longitude lists in {}'.format(city))\n",
    "    \n",
    "    return lat_list, lon_list"
   ]
  },
  {
   "cell_type": "markdown",
   "metadata": {},
   "source": [
    "---"
   ]
  },
  {
   "cell_type": "markdown",
   "metadata": {},
   "source": [
    "[C] Construct dataframes of city neighborhoods and their coordinates"
   ]
  },
  {
   "cell_type": "markdown",
   "metadata": {},
   "source": [
    "- **New York**; sourced from Coursera"
   ]
  },
  {
   "cell_type": "code",
   "execution_count": 148,
   "metadata": {},
   "outputs": [],
   "source": [
    "with open('newyork_data.json', 'r') as file:\n",
    "    new_york_data = json.load(file)"
   ]
  },
  {
   "cell_type": "code",
   "execution_count": 236,
   "metadata": {},
   "outputs": [],
   "source": [
    "#normalize json into df & drop_duplicates in 'properties.name'\n",
    "new_york = pd.json_normalize(new_york_data['features']).drop_duplicates(subset='properties.name')\n",
    "\n",
    "#add lat/lon columns\n",
    "new_york['Longitude'] = [pair[0] for pair in new_york['geometry.coordinates']]\n",
    "new_york['Latitude'] = [pair[1] for pair in new_york['geometry.coordinates']]\n",
    "\n",
    "#keep only names/boroughs/coordinates & rename columns\n",
    "new_york = new_york[['properties.name', 'properties.borough', 'Latitude', 'Longitude']].reset_index(drop=True)\n",
    "new_york.columns = ['Neighborhood', 'Borough', 'Latitude', 'Longitude']"
   ]
  },
  {
   "cell_type": "code",
   "execution_count": 237,
   "metadata": {},
   "outputs": [
    {
     "data": {
      "text/html": [
       "<div>\n",
       "<style scoped>\n",
       "    .dataframe tbody tr th:only-of-type {\n",
       "        vertical-align: middle;\n",
       "    }\n",
       "\n",
       "    .dataframe tbody tr th {\n",
       "        vertical-align: top;\n",
       "    }\n",
       "\n",
       "    .dataframe thead th {\n",
       "        text-align: right;\n",
       "    }\n",
       "</style>\n",
       "<table border=\"1\" class=\"dataframe\">\n",
       "  <thead>\n",
       "    <tr style=\"text-align: right;\">\n",
       "      <th></th>\n",
       "      <th>Neighborhood</th>\n",
       "      <th>Borough</th>\n",
       "      <th>Latitude</th>\n",
       "      <th>Longitude</th>\n",
       "    </tr>\n",
       "  </thead>\n",
       "  <tbody>\n",
       "    <tr>\n",
       "      <th>0</th>\n",
       "      <td>Wakefield</td>\n",
       "      <td>Bronx</td>\n",
       "      <td>40.894705</td>\n",
       "      <td>-73.847201</td>\n",
       "    </tr>\n",
       "    <tr>\n",
       "      <th>1</th>\n",
       "      <td>Co-op City</td>\n",
       "      <td>Bronx</td>\n",
       "      <td>40.874294</td>\n",
       "      <td>-73.829939</td>\n",
       "    </tr>\n",
       "    <tr>\n",
       "      <th>2</th>\n",
       "      <td>Eastchester</td>\n",
       "      <td>Bronx</td>\n",
       "      <td>40.887556</td>\n",
       "      <td>-73.827806</td>\n",
       "    </tr>\n",
       "    <tr>\n",
       "      <th>3</th>\n",
       "      <td>Fieldston</td>\n",
       "      <td>Bronx</td>\n",
       "      <td>40.895437</td>\n",
       "      <td>-73.905643</td>\n",
       "    </tr>\n",
       "    <tr>\n",
       "      <th>4</th>\n",
       "      <td>Riverdale</td>\n",
       "      <td>Bronx</td>\n",
       "      <td>40.890834</td>\n",
       "      <td>-73.912585</td>\n",
       "    </tr>\n",
       "  </tbody>\n",
       "</table>\n",
       "</div>"
      ],
      "text/plain": [
       "  Neighborhood Borough   Latitude  Longitude\n",
       "0    Wakefield   Bronx  40.894705 -73.847201\n",
       "1   Co-op City   Bronx  40.874294 -73.829939\n",
       "2  Eastchester   Bronx  40.887556 -73.827806\n",
       "3    Fieldston   Bronx  40.895437 -73.905643\n",
       "4    Riverdale   Bronx  40.890834 -73.912585"
      ]
     },
     "execution_count": 237,
     "metadata": {},
     "output_type": "execute_result"
    }
   ],
   "source": [
    "new_york.head()"
   ]
  },
  {
   "cell_type": "markdown",
   "metadata": {},
   "source": [
    "- **Paris, France**; sourced from Wikipedia"
   ]
  },
  {
   "cell_type": "code",
   "execution_count": 221,
   "metadata": {},
   "outputs": [],
   "source": [
    "paris = pd.read_html('https://en.wikipedia.org/wiki/Arrondissements_of_Paris')[2]"
   ]
  },
  {
   "cell_type": "code",
   "execution_count": 238,
   "metadata": {},
   "outputs": [],
   "source": [
    "#for elements in 'Name' with comma separation, take the last element\n",
    "paris['Name'] = paris['Name'].apply(lambda x: x.split(',')[-1])"
   ]
  },
  {
   "cell_type": "code",
   "execution_count": 241,
   "metadata": {},
   "outputs": [
    {
     "name": "stdout",
     "output_type": "stream",
     "text": [
      "Returned tuple of latitude and longitude lists in Paris\n"
     ]
    }
   ],
   "source": [
    "#call function get_coordinates_to_df()\n",
    "paris_coordinates = get_coordinates_to_df(paris['Name'], 'Paris')"
   ]
  },
  {
   "cell_type": "code",
   "execution_count": 242,
   "metadata": {},
   "outputs": [],
   "source": [
    "#add coordinates to df\n",
    "paris['Latitude'] = paris_coordinates[0]\n",
    "paris['Longitude'] = paris_coordinates[1]"
   ]
  },
  {
   "cell_type": "code",
   "execution_count": 275,
   "metadata": {},
   "outputs": [],
   "source": [
    "paris = paris[['Name', 'Latitude', 'Longitude']].reset_index(drop=True)\n",
    "paris.rename(columns={'Name': 'Neighborhood'}, inplace=True)"
   ]
  },
  {
   "cell_type": "code",
   "execution_count": 276,
   "metadata": {},
   "outputs": [
    {
     "data": {
      "text/html": [
       "<div>\n",
       "<style scoped>\n",
       "    .dataframe tbody tr th:only-of-type {\n",
       "        vertical-align: middle;\n",
       "    }\n",
       "\n",
       "    .dataframe tbody tr th {\n",
       "        vertical-align: top;\n",
       "    }\n",
       "\n",
       "    .dataframe thead th {\n",
       "        text-align: right;\n",
       "    }\n",
       "</style>\n",
       "<table border=\"1\" class=\"dataframe\">\n",
       "  <thead>\n",
       "    <tr style=\"text-align: right;\">\n",
       "      <th></th>\n",
       "      <th>Neighborhood</th>\n",
       "      <th>Latitude</th>\n",
       "      <th>Longitude</th>\n",
       "    </tr>\n",
       "  </thead>\n",
       "  <tbody>\n",
       "    <tr>\n",
       "      <th>0</th>\n",
       "      <td>Hôtel-de-Ville</td>\n",
       "      <td>48.856821</td>\n",
       "      <td>2.352301</td>\n",
       "    </tr>\n",
       "    <tr>\n",
       "      <th>1</th>\n",
       "      <td>Panthéon</td>\n",
       "      <td>48.846191</td>\n",
       "      <td>2.346079</td>\n",
       "    </tr>\n",
       "    <tr>\n",
       "      <th>2</th>\n",
       "      <td>Luxembourg</td>\n",
       "      <td>49.504314</td>\n",
       "      <td>6.279185</td>\n",
       "    </tr>\n",
       "    <tr>\n",
       "      <th>3</th>\n",
       "      <td>Palais-Bourbon</td>\n",
       "      <td>48.860920</td>\n",
       "      <td>2.318035</td>\n",
       "    </tr>\n",
       "    <tr>\n",
       "      <th>4</th>\n",
       "      <td>Élysée</td>\n",
       "      <td>48.846644</td>\n",
       "      <td>2.369830</td>\n",
       "    </tr>\n",
       "  </tbody>\n",
       "</table>\n",
       "</div>"
      ],
      "text/plain": [
       "      Neighborhood   Latitude  Longitude\n",
       "0   Hôtel-de-Ville  48.856821   2.352301\n",
       "1         Panthéon  48.846191   2.346079\n",
       "2       Luxembourg  49.504314   6.279185\n",
       "3   Palais-Bourbon  48.860920   2.318035\n",
       "4           Élysée  48.846644   2.369830"
      ]
     },
     "execution_count": 276,
     "metadata": {},
     "output_type": "execute_result"
    }
   ],
   "source": [
    "paris.head()"
   ]
  },
  {
   "cell_type": "markdown",
   "metadata": {},
   "source": [
    "- **London, UK**; sourced from Wikipedia"
   ]
  },
  {
   "cell_type": "code",
   "execution_count": 340,
   "metadata": {},
   "outputs": [],
   "source": [
    "london = pd.read_html('https://en.wikipedia.org/wiki/List_of_areas_of_London')[1]"
   ]
  },
  {
   "cell_type": "code",
   "execution_count": 341,
   "metadata": {},
   "outputs": [],
   "source": [
    "#rename 'Postcode district' to fix format\n",
    "london.rename(columns={\n",
    "    'Postcode\\xa0district': 'Postcode district', \n",
    "    'London\\xa0borough': 'London borough'\n",
    "}, inplace=True)\n",
    "\n",
    "#take 'Post town' LONDON only & drop_duplicates under 'Location'\n",
    "london = london[london['Post town'] == 'LONDON'].drop_duplicates(subset='Location')\n",
    "\n",
    "#for elements in 'Location' + ''London borough'' with ' (also' in name, split & take the first element\n",
    "london['Location'] = london['Location'].apply(lambda x: x.split(' (also')[0])"
   ]
  },
  {
   "cell_type": "code",
   "execution_count": 342,
   "metadata": {},
   "outputs": [
    {
     "data": {
      "text/html": [
       "<div>\n",
       "<style scoped>\n",
       "    .dataframe tbody tr th:only-of-type {\n",
       "        vertical-align: middle;\n",
       "    }\n",
       "\n",
       "    .dataframe tbody tr th {\n",
       "        vertical-align: top;\n",
       "    }\n",
       "\n",
       "    .dataframe thead th {\n",
       "        text-align: right;\n",
       "    }\n",
       "</style>\n",
       "<table border=\"1\" class=\"dataframe\">\n",
       "  <thead>\n",
       "    <tr style=\"text-align: right;\">\n",
       "      <th></th>\n",
       "      <th>Location</th>\n",
       "      <th>London borough</th>\n",
       "      <th>Post town</th>\n",
       "      <th>Postcode district</th>\n",
       "      <th>Dial code</th>\n",
       "      <th>OS grid ref</th>\n",
       "    </tr>\n",
       "  </thead>\n",
       "  <tbody>\n",
       "    <tr>\n",
       "      <th>0</th>\n",
       "      <td>Abbey Wood</td>\n",
       "      <td>Bexley, Greenwich [7]</td>\n",
       "      <td>LONDON</td>\n",
       "      <td>SE2</td>\n",
       "      <td>020</td>\n",
       "      <td>TQ465785</td>\n",
       "    </tr>\n",
       "    <tr>\n",
       "      <th>1</th>\n",
       "      <td>Acton</td>\n",
       "      <td>Ealing, Hammersmith and Fulham[8]</td>\n",
       "      <td>LONDON</td>\n",
       "      <td>W3, W4</td>\n",
       "      <td>020</td>\n",
       "      <td>TQ205805</td>\n",
       "    </tr>\n",
       "  </tbody>\n",
       "</table>\n",
       "</div>"
      ],
      "text/plain": [
       "     Location                     London borough Post town Postcode district  \\\n",
       "0  Abbey Wood              Bexley, Greenwich [7]    LONDON               SE2   \n",
       "1       Acton  Ealing, Hammersmith and Fulham[8]    LONDON            W3, W4   \n",
       "\n",
       "  Dial code OS grid ref  \n",
       "0       020    TQ465785  \n",
       "1       020    TQ205805  "
      ]
     },
     "execution_count": 342,
     "metadata": {},
     "output_type": "execute_result"
    }
   ],
   "source": [
    "london.head(2)"
   ]
  },
  {
   "cell_type": "code",
   "execution_count": 343,
   "metadata": {},
   "outputs": [
    {
     "name": "stdout",
     "output_type": "stream",
     "text": [
      "NO ADDRESS RETURNED: London Somerstown\n",
      "Returned tuple of latitude and longitude lists in London\n"
     ]
    }
   ],
   "source": [
    "#call function get_coordinates_to_df()\n",
    "london_coordinates = get_coordinates_to_df(london['Location'], 'London')"
   ]
  },
  {
   "cell_type": "code",
   "execution_count": 361,
   "metadata": {},
   "outputs": [],
   "source": [
    "#add coordinates to df\n",
    "london['Latitude'] = london_coordinates[0]\n",
    "london['Longitude'] = london_coordinates[1]\n",
    "london.dropna(subset=['Latitude', 'Longitude'], axis=0, inplace=True)"
   ]
  },
  {
   "cell_type": "code",
   "execution_count": 363,
   "metadata": {},
   "outputs": [],
   "source": [
    "#get relevant columns & rename/format\n",
    "london = london[['Location', 'London borough', 'Latitude', 'Longitude']].reset_index(drop=True)\n",
    "london.columns = ['Neighborhood', 'Boroughs', 'Latitude', 'Longitude']"
   ]
  },
  {
   "cell_type": "code",
   "execution_count": 364,
   "metadata": {},
   "outputs": [],
   "source": [
    "#drop footnote number from 'Boroughs'\n",
    "repl = re.compile(r\"\\[\\d*]\")\n",
    "london['Boroughs'] = [repl.sub('', name) for name in london['Boroughs']]"
   ]
  },
  {
   "cell_type": "code",
   "execution_count": 365,
   "metadata": {},
   "outputs": [
    {
     "data": {
      "text/html": [
       "<div>\n",
       "<style scoped>\n",
       "    .dataframe tbody tr th:only-of-type {\n",
       "        vertical-align: middle;\n",
       "    }\n",
       "\n",
       "    .dataframe tbody tr th {\n",
       "        vertical-align: top;\n",
       "    }\n",
       "\n",
       "    .dataframe thead th {\n",
       "        text-align: right;\n",
       "    }\n",
       "</style>\n",
       "<table border=\"1\" class=\"dataframe\">\n",
       "  <thead>\n",
       "    <tr style=\"text-align: right;\">\n",
       "      <th></th>\n",
       "      <th>Neighborhood</th>\n",
       "      <th>Boroughs</th>\n",
       "      <th>Latitude</th>\n",
       "      <th>Longitude</th>\n",
       "    </tr>\n",
       "  </thead>\n",
       "  <tbody>\n",
       "    <tr>\n",
       "      <th>0</th>\n",
       "      <td>Abbey Wood</td>\n",
       "      <td>Bexley, Greenwich</td>\n",
       "      <td>51.487621</td>\n",
       "      <td>0.114050</td>\n",
       "    </tr>\n",
       "    <tr>\n",
       "      <th>1</th>\n",
       "      <td>Acton</td>\n",
       "      <td>Ealing, Hammersmith and Fulham</td>\n",
       "      <td>51.508140</td>\n",
       "      <td>-0.273261</td>\n",
       "    </tr>\n",
       "    <tr>\n",
       "      <th>2</th>\n",
       "      <td>Aldgate</td>\n",
       "      <td>City</td>\n",
       "      <td>51.514248</td>\n",
       "      <td>-0.075719</td>\n",
       "    </tr>\n",
       "    <tr>\n",
       "      <th>3</th>\n",
       "      <td>Aldwych</td>\n",
       "      <td>Westminster</td>\n",
       "      <td>51.513131</td>\n",
       "      <td>-0.117593</td>\n",
       "    </tr>\n",
       "    <tr>\n",
       "      <th>4</th>\n",
       "      <td>Anerley</td>\n",
       "      <td>Bromley</td>\n",
       "      <td>51.407599</td>\n",
       "      <td>-0.061939</td>\n",
       "    </tr>\n",
       "  </tbody>\n",
       "</table>\n",
       "</div>"
      ],
      "text/plain": [
       "  Neighborhood                        Boroughs   Latitude  Longitude\n",
       "0   Abbey Wood               Bexley, Greenwich  51.487621   0.114050\n",
       "1        Acton  Ealing, Hammersmith and Fulham  51.508140  -0.273261\n",
       "2      Aldgate                            City  51.514248  -0.075719\n",
       "3      Aldwych                     Westminster  51.513131  -0.117593\n",
       "4      Anerley                         Bromley  51.407599  -0.061939"
      ]
     },
     "execution_count": 365,
     "metadata": {},
     "output_type": "execute_result"
    }
   ],
   "source": [
    "london.head()"
   ]
  },
  {
   "cell_type": "markdown",
   "metadata": {},
   "source": [
    "- **Toronto, Canada**; sourced from Wikipedia"
   ]
  },
  {
   "cell_type": "code",
   "execution_count": 369,
   "metadata": {},
   "outputs": [],
   "source": [
    "toronto = pd.read_html('https://en.wikipedia.org/wiki/List_of_postal_codes_of_Canada:_M')[0]"
   ]
  },
  {
   "cell_type": "code",
   "execution_count": 370,
   "metadata": {},
   "outputs": [],
   "source": [
    "#ignoring rows 'Not assigned'\n",
    "toronto = toronto[~(toronto['Borough'] == 'Not assigned')]\n",
    "\n",
    "#for elements in 'Neighbourhood' with ', ' separating >1 name, split & take the last element\n",
    "toronto['Neighbourhood'] = toronto['Neighbourhood'].apply(lambda x: x.split(', ')[-1])"
   ]
  },
  {
   "cell_type": "code",
   "execution_count": 379,
   "metadata": {},
   "outputs": [
    {
     "name": "stdout",
     "output_type": "stream",
     "text": [
      "Returned tuple of latitude and longitude lists in Toronto\n"
     ]
    }
   ],
   "source": [
    "#call function get_coordinates_to_df()\n",
    "toronto_coordinates = get_coordinates_to_df(toronto['Neighbourhood'], 'Toronto')"
   ]
  },
  {
   "cell_type": "code",
   "execution_count": 380,
   "metadata": {},
   "outputs": [],
   "source": [
    "#add coordinates to df\n",
    "toronto['Latitude'] = toronto_coordinates[0]\n",
    "toronto['Longitude'] = toronto_coordinates[1]"
   ]
  },
  {
   "cell_type": "code",
   "execution_count": 381,
   "metadata": {},
   "outputs": [],
   "source": [
    "#drop any nans & rename col\n",
    "toronto.dropna(subset=['Latitude', 'Longitude'], axis=0, inplace=True)\n",
    "toronto.rename(columns={'Neighbourhood': 'Neighborhood'}, inplace=True)"
   ]
  },
  {
   "cell_type": "code",
   "execution_count": 384,
   "metadata": {},
   "outputs": [
    {
     "data": {
      "text/html": [
       "<div>\n",
       "<style scoped>\n",
       "    .dataframe tbody tr th:only-of-type {\n",
       "        vertical-align: middle;\n",
       "    }\n",
       "\n",
       "    .dataframe tbody tr th {\n",
       "        vertical-align: top;\n",
       "    }\n",
       "\n",
       "    .dataframe thead th {\n",
       "        text-align: right;\n",
       "    }\n",
       "</style>\n",
       "<table border=\"1\" class=\"dataframe\">\n",
       "  <thead>\n",
       "    <tr style=\"text-align: right;\">\n",
       "      <th></th>\n",
       "      <th>Neighborhood</th>\n",
       "      <th>Borough</th>\n",
       "      <th>Latitude</th>\n",
       "      <th>Longitude</th>\n",
       "    </tr>\n",
       "  </thead>\n",
       "  <tbody>\n",
       "    <tr>\n",
       "      <th>2</th>\n",
       "      <td>Parkwoods</td>\n",
       "      <td>North York</td>\n",
       "      <td>43.761124</td>\n",
       "      <td>-79.324059</td>\n",
       "    </tr>\n",
       "    <tr>\n",
       "      <th>3</th>\n",
       "      <td>Victoria Village</td>\n",
       "      <td>North York</td>\n",
       "      <td>43.732658</td>\n",
       "      <td>-79.311189</td>\n",
       "    </tr>\n",
       "    <tr>\n",
       "      <th>4</th>\n",
       "      <td>Harbourfront</td>\n",
       "      <td>Downtown Toronto</td>\n",
       "      <td>43.640080</td>\n",
       "      <td>-79.380150</td>\n",
       "    </tr>\n",
       "    <tr>\n",
       "      <th>5</th>\n",
       "      <td>Lawrence Heights</td>\n",
       "      <td>North York</td>\n",
       "      <td>43.722778</td>\n",
       "      <td>-79.450933</td>\n",
       "    </tr>\n",
       "    <tr>\n",
       "      <th>8</th>\n",
       "      <td>Humber Valley Village</td>\n",
       "      <td>Etobicoke</td>\n",
       "      <td>43.666472</td>\n",
       "      <td>-79.524314</td>\n",
       "    </tr>\n",
       "  </tbody>\n",
       "</table>\n",
       "</div>"
      ],
      "text/plain": [
       "            Neighborhood           Borough   Latitude  Longitude\n",
       "2              Parkwoods        North York  43.761124 -79.324059\n",
       "3       Victoria Village        North York  43.732658 -79.311189\n",
       "4           Harbourfront  Downtown Toronto  43.640080 -79.380150\n",
       "5       Lawrence Heights        North York  43.722778 -79.450933\n",
       "8  Humber Valley Village         Etobicoke  43.666472 -79.524314"
      ]
     },
     "execution_count": 384,
     "metadata": {},
     "output_type": "execute_result"
    }
   ],
   "source": [
    "#get relevant data\n",
    "toronto = toronto[['Neighborhood', 'Borough', 'Latitude', 'Longitude']]\n",
    "toronto.head()"
   ]
  },
  {
   "cell_type": "markdown",
   "metadata": {},
   "source": [
    "---"
   ]
  },
  {
   "cell_type": "markdown",
   "metadata": {},
   "source": [
    "## (2) Access FourSquare's API"
   ]
  },
  {
   "cell_type": "code",
   "execution_count": 403,
   "metadata": {},
   "outputs": [],
   "source": [
    "#set FourSquare credentials\n",
    "CLIENT_ID = api_keys.CLIENT_ID\n",
    "CLIENT_SECRET = api_keys.CLIENT_SECRET\n",
    "VERSION = '20180605'\n",
    "LIMIT = 100\n",
    "radius = 500"
   ]
  },
  {
   "cell_type": "code",
   "execution_count": 398,
   "metadata": {},
   "outputs": [],
   "source": [
    "#function takes in lists of names/coordinates and returns pd.DataFrame of FourSquare query\n",
    "def getNearbyVenues(names, latitudes, longitudes, radius=500):\n",
    "    \n",
    "    venues_list=[]\n",
    "    for name, lat, lng in zip(names, latitudes, longitudes):\n",
    "            \n",
    "        # create the API request URL\n",
    "        url = 'https://api.foursquare.com/v2/venues/explore?&client_id={}&client_secret={}&v={}&ll={},{}&radius={}&limit={}'.format(\n",
    "            CLIENT_ID, \n",
    "            CLIENT_SECRET, \n",
    "            VERSION, \n",
    "            lat, \n",
    "            lng, \n",
    "            radius, \n",
    "            LIMIT)\n",
    "            \n",
    "        # make the GET request\n",
    "        results = requests.get(url).json()   #[\"response\"]['groups'][0]['items']\n",
    "        \n",
    "        # return only relevant information for each nearby venue\n",
    "#         venues_list.append([(\n",
    "#             name, \n",
    "#             lat, \n",
    "#             lng, \n",
    "#             v['venue']['name'], \n",
    "#             v['venue']['location']['lat'], \n",
    "#             v['venue']['location']['lng'],  \n",
    "#             v['venue']['categories'][0]['name']) for v in results])\n",
    "\n",
    "#     nearby_venues = pd.DataFrame([item for venue_list in venues_list for item in venue_list])\n",
    "#     nearby_venues.columns = ['Neighborhood', \n",
    "#                   'Neighborhood Latitude', \n",
    "#                   'Neighborhood Longitude', \n",
    "#                   'Venue', \n",
    "#                   'Venue Latitude', \n",
    "#                   'Venue Longitude', \n",
    "#                   'Venue Category']\n",
    "    \n",
    "    return results #(nearby_venues)"
   ]
  },
  {
   "cell_type": "code",
   "execution_count": 404,
   "metadata": {},
   "outputs": [],
   "source": [
    "cities = ['Paris']# 'NewYork']#, 'Paris', 'London', 'Toronto']\n",
    "city_dfs = [paris] #new_york]#, paris, london, toronto]"
   ]
  },
  {
   "cell_type": "code",
   "execution_count": 405,
   "metadata": {},
   "outputs": [],
   "source": [
    "four_sqr_queries = {city: getNearbyVenues(city_df['Neighborhood'], \n",
    "                                          city_df['Latitude'], \n",
    "                                          city_df['Longitude']) for city, city_df in zip(cities, city_dfs)}"
   ]
  },
  {
   "cell_type": "code",
   "execution_count": 406,
   "metadata": {},
   "outputs": [
    {
     "data": {
      "text/plain": [
       "{'Paris': {'meta': {'code': 429,\n",
       "   'errorType': 'quota_exceeded',\n",
       "   'errorDetail': 'Quota exceeded',\n",
       "   'requestId': '5fbdb1b0050c132220a82d9c'},\n",
       "  'response': {}}}"
      ]
     },
     "execution_count": 406,
     "metadata": {},
     "output_type": "execute_result"
    }
   ],
   "source": [
    "four_sqr_queries"
   ]
  },
  {
   "cell_type": "code",
   "execution_count": null,
   "metadata": {},
   "outputs": [],
   "source": []
  },
  {
   "cell_type": "code",
   "execution_count": null,
   "metadata": {},
   "outputs": [],
   "source": []
  },
  {
   "cell_type": "code",
   "execution_count": null,
   "metadata": {},
   "outputs": [],
   "source": []
  },
  {
   "cell_type": "code",
   "execution_count": null,
   "metadata": {},
   "outputs": [],
   "source": []
  }
 ],
 "metadata": {
  "kernelspec": {
   "display_name": "Python 3",
   "language": "python",
   "name": "python3"
  },
  "language_info": {
   "codemirror_mode": {
    "name": "ipython",
    "version": 3
   },
   "file_extension": ".py",
   "mimetype": "text/x-python",
   "name": "python",
   "nbconvert_exporter": "python",
   "pygments_lexer": "ipython3",
   "version": "3.7.3"
  }
 },
 "nbformat": 4,
 "nbformat_minor": 4
}
