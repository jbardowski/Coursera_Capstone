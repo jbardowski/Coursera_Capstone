{
 "cells": [
  {
   "cell_type": "markdown",
   "metadata": {},
   "source": [
    "## Cultural Scene Comparison"
   ]
  },
  {
   "cell_type": "markdown",
   "metadata": {},
   "source": []
  },
  {
   "cell_type": "markdown",
   "metadata": {},
   "source": [
    "---"
   ]
  },
  {
   "cell_type": "markdown",
   "metadata": {},
   "source": [
    "- Import libraries"
   ]
  },
  {
   "cell_type": "code",
   "execution_count": 2,
   "metadata": {},
   "outputs": [],
   "source": [
    "import pandas as pd\n",
    "import numpy as np\n",
    "\n"
   ]
  },
  {
   "cell_type": "code",
   "execution_count": null,
   "metadata": {},
   "outputs": [],
   "source": []
  },
  {
   "cell_type": "code",
   "execution_count": null,
   "metadata": {},
   "outputs": [],
   "source": []
  },
  {
   "cell_type": "code",
   "execution_count": null,
   "metadata": {},
   "outputs": [],
   "source": []
  },
  {
   "cell_type": "code",
   "execution_count": null,
   "metadata": {},
   "outputs": [],
   "source": [
    "cities = [\n",
    "    'New York, NY',\n",
    "    'Chicago, IL',\n",
    "    'Los Angeles, CA',\n",
    "    'London, England',\n",
    "    'Paris, France',\n",
    "    \n",
    "]"
   ]
  },
  {
   "cell_type": "markdown",
   "metadata": {},
   "source": [
    "- Paris, France"
   ]
  },
  {
   "cell_type": "code",
   "execution_count": 8,
   "metadata": {},
   "outputs": [],
   "source": [
    "paris = pd.read_html('https://en.wikipedia.org/wiki/Arrondissements_of_Paris')[2]"
   ]
  },
  {
   "cell_type": "code",
   "execution_count": 10,
   "metadata": {},
   "outputs": [
    {
     "data": {
      "text/html": [
       "<div>\n",
       "<style scoped>\n",
       "    .dataframe tbody tr th:only-of-type {\n",
       "        vertical-align: middle;\n",
       "    }\n",
       "\n",
       "    .dataframe tbody tr th {\n",
       "        vertical-align: top;\n",
       "    }\n",
       "\n",
       "    .dataframe thead th {\n",
       "        text-align: right;\n",
       "    }\n",
       "</style>\n",
       "<table border=\"1\" class=\"dataframe\">\n",
       "  <thead>\n",
       "    <tr style=\"text-align: right;\">\n",
       "      <th></th>\n",
       "      <th>Arrondissement (R for Right Bank, L for Left Bank)</th>\n",
       "      <th>Name</th>\n",
       "      <th>Area (km2)</th>\n",
       "      <th>Population(2017 estimate)</th>\n",
       "      <th>Density (2017)(inhabitants per km2)</th>\n",
       "      <th>Peak of population</th>\n",
       "      <th>Mayor</th>\n",
       "      <th>2020-2026</th>\n",
       "    </tr>\n",
       "  </thead>\n",
       "  <tbody>\n",
       "    <tr>\n",
       "      <th>0</th>\n",
       "      <td>Paris Centre 1st (Ier) / 2nd (IIe) / 3rd (IIIe...</td>\n",
       "      <td>Louvre, Bourse, Temple, Hôtel-de-Ville</td>\n",
       "      <td>5.59 km2 (2.16 sq mi)</td>\n",
       "      <td>100196</td>\n",
       "      <td>17924</td>\n",
       "      <td>before 1861</td>\n",
       "      <td>Ariel Weil (PS)</td>\n",
       "      <td>NaN</td>\n",
       "    </tr>\n",
       "    <tr>\n",
       "      <th>1</th>\n",
       "      <td>5th (Ve) L</td>\n",
       "      <td>Panthéon</td>\n",
       "      <td>2.541 km2 (0.981 sq mi)</td>\n",
       "      <td>59631</td>\n",
       "      <td>23477</td>\n",
       "      <td>1911</td>\n",
       "      <td>Florence Berthout (DVD)</td>\n",
       "      <td>NaN</td>\n",
       "    </tr>\n",
       "    <tr>\n",
       "      <th>2</th>\n",
       "      <td>6th (VIe) L</td>\n",
       "      <td>Luxembourg</td>\n",
       "      <td>2.154 km2 (0.832 sq mi)</td>\n",
       "      <td>41976</td>\n",
       "      <td>19524</td>\n",
       "      <td>1911</td>\n",
       "      <td>Jean-Pierre Lecoq (LR)</td>\n",
       "      <td>NaN</td>\n",
       "    </tr>\n",
       "    <tr>\n",
       "      <th>3</th>\n",
       "      <td>7th (VIIe) L</td>\n",
       "      <td>Palais-Bourbon</td>\n",
       "      <td>4.088 km2 (1.578 sq mi)</td>\n",
       "      <td>52193</td>\n",
       "      <td>12761</td>\n",
       "      <td>1926</td>\n",
       "      <td>Rachida Dati (LR)</td>\n",
       "      <td>NaN</td>\n",
       "    </tr>\n",
       "    <tr>\n",
       "      <th>4</th>\n",
       "      <td>8th (VIIIe) R</td>\n",
       "      <td>Élysée</td>\n",
       "      <td>3.881 km2 (1.498 sq mi)</td>\n",
       "      <td>37368</td>\n",
       "      <td>9631</td>\n",
       "      <td>1891</td>\n",
       "      <td>Jeanne d'Hauteserre (LR)</td>\n",
       "      <td>NaN</td>\n",
       "    </tr>\n",
       "  </tbody>\n",
       "</table>\n",
       "</div>"
      ],
      "text/plain": [
       "  Arrondissement (R for Right Bank, L for Left Bank)  \\\n",
       "0  Paris Centre 1st (Ier) / 2nd (IIe) / 3rd (IIIe...   \n",
       "1                                         5th (Ve) L   \n",
       "2                                        6th (VIe) L   \n",
       "3                                       7th (VIIe) L   \n",
       "4                                      8th (VIIIe) R   \n",
       "\n",
       "                                     Name               Area (km2)  \\\n",
       "0  Louvre, Bourse, Temple, Hôtel-de-Ville    5.59 km2 (2.16 sq mi)   \n",
       "1                                Panthéon  2.541 km2 (0.981 sq mi)   \n",
       "2                              Luxembourg  2.154 km2 (0.832 sq mi)   \n",
       "3                          Palais-Bourbon  4.088 km2 (1.578 sq mi)   \n",
       "4                                  Élysée  3.881 km2 (1.498 sq mi)   \n",
       "\n",
       "   Population(2017 estimate) Density (2017)(inhabitants per km2)  \\\n",
       "0                     100196                               17924   \n",
       "1                      59631                               23477   \n",
       "2                      41976                               19524   \n",
       "3                      52193                               12761   \n",
       "4                      37368                                9631   \n",
       "\n",
       "  Peak of population                     Mayor  2020-2026  \n",
       "0        before 1861           Ariel Weil (PS)        NaN  \n",
       "1               1911   Florence Berthout (DVD)        NaN  \n",
       "2               1911    Jean-Pierre Lecoq (LR)        NaN  \n",
       "3               1926         Rachida Dati (LR)        NaN  \n",
       "4               1891  Jeanne d'Hauteserre (LR)        NaN  "
      ]
     },
     "execution_count": 10,
     "metadata": {},
     "output_type": "execute_result"
    }
   ],
   "source": [
    "paris.head()"
   ]
  },
  {
   "cell_type": "markdown",
   "metadata": {},
   "source": [
    "- London, England"
   ]
  },
  {
   "cell_type": "code",
   "execution_count": 16,
   "metadata": {},
   "outputs": [],
   "source": [
    "london = pd.read_html('https://en.wikipedia.org/wiki/List_of_areas_of_London')[1]"
   ]
  },
  {
   "cell_type": "code",
   "execution_count": 17,
   "metadata": {},
   "outputs": [
    {
     "data": {
      "text/html": [
       "<div>\n",
       "<style scoped>\n",
       "    .dataframe tbody tr th:only-of-type {\n",
       "        vertical-align: middle;\n",
       "    }\n",
       "\n",
       "    .dataframe tbody tr th {\n",
       "        vertical-align: top;\n",
       "    }\n",
       "\n",
       "    .dataframe thead th {\n",
       "        text-align: right;\n",
       "    }\n",
       "</style>\n",
       "<table border=\"1\" class=\"dataframe\">\n",
       "  <thead>\n",
       "    <tr style=\"text-align: right;\">\n",
       "      <th></th>\n",
       "      <th>Location</th>\n",
       "      <th>London borough</th>\n",
       "      <th>Post town</th>\n",
       "      <th>Postcode district</th>\n",
       "      <th>Dial code</th>\n",
       "      <th>OS grid ref</th>\n",
       "    </tr>\n",
       "  </thead>\n",
       "  <tbody>\n",
       "    <tr>\n",
       "      <th>0</th>\n",
       "      <td>Abbey Wood</td>\n",
       "      <td>Bexley, Greenwich [7]</td>\n",
       "      <td>LONDON</td>\n",
       "      <td>SE2</td>\n",
       "      <td>020</td>\n",
       "      <td>TQ465785</td>\n",
       "    </tr>\n",
       "    <tr>\n",
       "      <th>1</th>\n",
       "      <td>Acton</td>\n",
       "      <td>Ealing, Hammersmith and Fulham[8]</td>\n",
       "      <td>LONDON</td>\n",
       "      <td>W3, W4</td>\n",
       "      <td>020</td>\n",
       "      <td>TQ205805</td>\n",
       "    </tr>\n",
       "    <tr>\n",
       "      <th>2</th>\n",
       "      <td>Addington</td>\n",
       "      <td>Croydon[8]</td>\n",
       "      <td>CROYDON</td>\n",
       "      <td>CR0</td>\n",
       "      <td>020</td>\n",
       "      <td>TQ375645</td>\n",
       "    </tr>\n",
       "    <tr>\n",
       "      <th>3</th>\n",
       "      <td>Addiscombe</td>\n",
       "      <td>Croydon[8]</td>\n",
       "      <td>CROYDON</td>\n",
       "      <td>CR0</td>\n",
       "      <td>020</td>\n",
       "      <td>TQ345665</td>\n",
       "    </tr>\n",
       "    <tr>\n",
       "      <th>4</th>\n",
       "      <td>Albany Park</td>\n",
       "      <td>Bexley</td>\n",
       "      <td>BEXLEY, SIDCUP</td>\n",
       "      <td>DA5, DA14</td>\n",
       "      <td>020</td>\n",
       "      <td>TQ478728</td>\n",
       "    </tr>\n",
       "  </tbody>\n",
       "</table>\n",
       "</div>"
      ],
      "text/plain": [
       "      Location                     London borough       Post town  \\\n",
       "0   Abbey Wood              Bexley, Greenwich [7]          LONDON   \n",
       "1        Acton  Ealing, Hammersmith and Fulham[8]          LONDON   \n",
       "2    Addington                         Croydon[8]         CROYDON   \n",
       "3   Addiscombe                         Croydon[8]         CROYDON   \n",
       "4  Albany Park                             Bexley  BEXLEY, SIDCUP   \n",
       "\n",
       "  Postcode district Dial code OS grid ref  \n",
       "0               SE2       020    TQ465785  \n",
       "1            W3, W4       020    TQ205805  \n",
       "2               CR0       020    TQ375645  \n",
       "3               CR0       020    TQ345665  \n",
       "4         DA5, DA14       020    TQ478728  "
      ]
     },
     "execution_count": 17,
     "metadata": {},
     "output_type": "execute_result"
    }
   ],
   "source": [
    "london.head()"
   ]
  },
  {
   "cell_type": "code",
   "execution_count": null,
   "metadata": {},
   "outputs": [],
   "source": []
  }
 ],
 "metadata": {
  "kernelspec": {
   "display_name": "Python 3",
   "language": "python",
   "name": "python3"
  },
  "language_info": {
   "codemirror_mode": {
    "name": "ipython",
    "version": 3
   },
   "file_extension": ".py",
   "mimetype": "text/x-python",
   "name": "python",
   "nbconvert_exporter": "python",
   "pygments_lexer": "ipython3",
   "version": "3.7.3"
  }
 },
 "nbformat": 4,
 "nbformat_minor": 4
}
